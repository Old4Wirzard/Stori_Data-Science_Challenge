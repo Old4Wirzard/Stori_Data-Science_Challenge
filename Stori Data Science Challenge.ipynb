{
 "cells": [
  {
   "cell_type": "markdown",
   "id": "904f8292",
   "metadata": {},
   "source": [
    "# Stori Data Science Challenge\n",
    "\n",
    "The present document is a Challenge proposed by Stori. The tasks to be completed are the following:\n",
    "\n",
    "1. Question 1\n",
    "     1. Plot an histogram of the balance amount for all the customers.\n",
    "     2. Report any structure you find and any hypotheses you have about that structure.\n",
    "     3. Report mean and median balance, grouped by year and month of activated_date .\n",
    "2. Question 2\n",
    "    1. Report in a table the following information for customers who activated their account and made their last payment during 2020: cust_id (excluding letters), activated_date (in format YYYY-MM), last_payment_date (in format YYYY-MM-DD), cash_advance , credit_limit , and acalculated field of cash_advance as a percentage of credit_limit.\n",
    "3. Question 3\n",
    "    1. Build a predictive model for fraud.\n",
    "    2. What explanatory variable was the most powerful predictor for fraud?\n",
    "\n",
    "The dataset analyzed comes from the CSV file <strong>df (1) (1) (2).csv</strong>\n",
    "\n",
    "The following sections cover the step by step procedure performed to try answering the questions from the challenge.\n",
    "***\n",
    "## Question 1\n",
    "\n",
    "### Importing libraries\n",
    "\n",
    "First, the required libraries must be imported.\n"
   ]
  },
  {
   "cell_type": "code",
   "execution_count": 1,
   "id": "e0f85301",
   "metadata": {},
   "outputs": [],
   "source": [
    "import matplotlib.pyplot as plt\n",
    "import pandas as pd\n"
   ]
  },
  {
   "cell_type": "markdown",
   "id": "7795474f",
   "metadata": {},
   "source": [
    "###  Reading the CSV\n",
    "\n",
    "Pandas, allows become the CSV file in a Data Frame object that simplifies the data interaction."
   ]
  },
  {
   "cell_type": "code",
   "execution_count": 2,
   "id": "54753e64",
   "metadata": {},
   "outputs": [],
   "source": [
    "credit_df = pd.read_csv('df (1) (1) (2).csv')"
   ]
  },
  {
   "cell_type": "markdown",
   "id": "b710d993",
   "metadata": {},
   "source": [
    "### Ploting Histograma\n",
    "\n",
    "With the <em>hist</em> plot the histogram to visualize the frequency of the different  values for <em>balance</em>."
   ]
  },
  {
   "cell_type": "code",
   "execution_count": 3,
   "id": "b25f1c7a",
   "metadata": {
    "scrolled": true
   },
   "outputs": [
    {
     "data": {
      "text/plain": [
       "array([[<AxesSubplot:title={'center':'balance'}>]], dtype=object)"
      ]
     },
     "execution_count": 3,
     "metadata": {},
     "output_type": "execute_result"
    },
    {
     "data": {
      "image/png": "[encoded data removed]",
      "text/plain": [
       "<Figure size 864x576 with 1 Axes>"
      ]
     },
     "metadata": {
      "needs_background": "light"
     },
     "output_type": "display_data"
    }
   ],
   "source": [
    "credit_df.hist(column ='balance', bins = 50 , grid = False, figsize = (12,8), color = '#A0E8AF')"
   ]
  },
  {
   "cell_type": "markdown",
   "id": "ea83fdde",
   "metadata": {},
   "source": [
    "According with the graph above. It could be said that most of the people have a balance in theirs accounts equal to 0 or nearly to 0."
   ]
  },
  {
   "cell_type": "markdown",
   "id": "5f831d9b",
   "metadata": {},
   "source": [
    "### Reporting mean and median\n",
    "\n",
    "The following code, give us as output the mean and median of the balance in each different month cover in the dataset (Octuber/2019 to July/2020).\n",
    "\n",
    "It is needed to change the type data of the date to facilitate the data manipulation. The code works with two nested <em>for</em> to iterate with years and months, in that way the code has the possibility to calculate the mean and median for each different month in the dataset."
   ]
  },
  {
   "cell_type": "code",
   "execution_count": 4,
   "id": "aa84b403",
   "metadata": {},
   "outputs": [
    {
     "name": "stdout",
     "output_type": "stream",
     "text": [
      "October, 2019: \n",
      "\t mean: 2482.234166470952\n",
      "\t median: 1524.409377\n",
      "November, 2019: \n",
      "\t mean: 1848.7043227127883\n",
      "\t median: 1082.071173\n",
      "December, 2019: \n",
      "\t mean: 2018.7889055277137\n",
      "\t median: 1162.5883840000001\n",
      "January, 2020: \n",
      "\t mean: 1854.5358888816236\n",
      "\t median: 1175.749847\n",
      "February, 2020: \n",
      "\t mean: 1747.350977283721\n",
      "\t median: 994.841733\n",
      "March, 2020: \n",
      "\t mean: 1554.9730231185345\n",
      "\t median: 828.9548235\n",
      "April, 2020: \n",
      "\t mean: 1483.1831911315194\n",
      "\t median: 910.1419125\n",
      "May, 2020: \n",
      "\t mean: 1214.333732252146\n",
      "\t median: 734.5576815\n",
      "June, 2020: \n",
      "\t mean: 939.9979956235698\n",
      "\t median: 472.7918625\n",
      "July, 2020: \n",
      "\t mean: 649.7176221283138\n",
      "\t median: 221.29129\n"
     ]
    }
   ],
   "source": [
    "credit_df['activated_date'] = pd.to_datetime(credit_df['activated_date'], format = '%Y-%m-%d')\n",
    "months = {1: 'January', 2: 'February', 3: 'March', 4 : 'April', 5: 'May', 6 : 'June', 7: 'July', 8: 'August', 9: 'September', 10 : 'October', 11: 'November', 12: 'December'}\n",
    "for year in (2019, 2020):\n",
    "    if year == 2020:\n",
    "        initial_month = 1\n",
    "        final_month = 8\n",
    "    if year == 2019:\n",
    "        initial_month = 10\n",
    "        final_month = 13\n",
    "    for month in range(initial_month,final_month):\n",
    "        if month < 12:\n",
    "            month_activ_df = credit_df.loc[(credit_df['activated_date'] >= '{year}-{month}-1'.format(year = year, month = month))\n",
    "                                       & (credit_df['activated_date'] < '{year}-{month}-1'.format(year = year, month = month + 1))]\n",
    "        elif month == 12:\n",
    "            month_activ_df = credit_df.loc[(credit_df['activated_date'] >= '{year}-{month}-1'.format(year = year, month = month))\n",
    "                                       & (credit_df['activated_date'] < '{year}-{month}-1'.format(year = year + 1, month = 1))]\n",
    "        \n",
    "        mean = month_activ_df['balance'].mean()\n",
    "        median = month_activ_df['balance'].median()\n",
    "        print('{month}, {year}: \\n\\t mean: {mean}\\n\\t median: {median}'.format(month = months.get(month), year = year, mean = mean, median = median))"
   ]
  },
  {
   "cell_type": "markdown",
   "id": "49f8c942",
   "metadata": {},
   "source": [
    "According with the past values, it could be seen a tendency  decreasing of the mean balance of new clients\n",
    "***\n",
    "## Question 2\n",
    "\n",
    "The following procedure is implemented to get the table as required:\n",
    "\n",
    "* Select only the registers where the activated_date and last_payment_date are after the 2019, using the <em>loc</em> method with the same condition for both dates.\n",
    "* Create a copy of the Data Frame to avoid getting warnings.\n",
    "* Strip 'C' from all customers ID's using <em>str.strip</em> method.\n",
    "* Modify format for <em>activated_date</em> to show only year and month.\n",
    "* <em>last_payment_date</em> does not change the format but it is needed formatted as date data.\n",
    "* Eliminate by using two <em>drop</em> method callings to eliminate undesired columns.\n",
    "* Generate new column called <em>percentage</em> that calculate the percentage of cash_advance as a percentage of credit_limit.\n",
    "\n"
   ]
  },
  {
   "cell_type": "code",
   "execution_count": 5,
   "id": "972c96eb",
   "metadata": {},
   "outputs": [
    {
     "data": {
      "text/html": [
       "<div>\n",
       "<style scoped>\n",
       "    .dataframe tbody tr th:only-of-type {\n",
       "        vertical-align: middle;\n",
       "    }\n",
       "\n",
       "    .dataframe tbody tr th {\n",
       "        vertical-align: top;\n",
       "    }\n",
       "\n",
       "    .dataframe thead th {\n",
       "        text-align: right;\n",
       "    }\n",
       "</style>\n",
       "<table border=\"1\" class=\"dataframe\">\n",
       "  <thead>\n",
       "    <tr style=\"text-align: right;\">\n",
       "      <th></th>\n",
       "      <th>cust_id</th>\n",
       "      <th>activated_date</th>\n",
       "      <th>last_payment_date</th>\n",
       "      <th>cash_advance</th>\n",
       "      <th>credit_limit</th>\n",
       "      <th>percentage</th>\n",
       "    </tr>\n",
       "  </thead>\n",
       "  <tbody>\n",
       "    <tr>\n",
       "      <th>2633</th>\n",
       "      <td>12709</td>\n",
       "      <td>2020-01</td>\n",
       "      <td>2020-05-08</td>\n",
       "      <td>2431.292076</td>\n",
       "      <td>8000.0</td>\n",
       "      <td>30.391151</td>\n",
       "    </tr>\n",
       "    <tr>\n",
       "      <th>2634</th>\n",
       "      <td>12710</td>\n",
       "      <td>2020-01</td>\n",
       "      <td>2020-05-26</td>\n",
       "      <td>0.000000</td>\n",
       "      <td>2000.0</td>\n",
       "      <td>0.000000</td>\n",
       "    </tr>\n",
       "    <tr>\n",
       "      <th>2635</th>\n",
       "      <td>12712</td>\n",
       "      <td>2020-01</td>\n",
       "      <td>2020-10-20</td>\n",
       "      <td>0.000000</td>\n",
       "      <td>3000.0</td>\n",
       "      <td>0.000000</td>\n",
       "    </tr>\n",
       "    <tr>\n",
       "      <th>2636</th>\n",
       "      <td>12713</td>\n",
       "      <td>2020-01</td>\n",
       "      <td>2020-08-22</td>\n",
       "      <td>0.000000</td>\n",
       "      <td>9000.0</td>\n",
       "      <td>0.000000</td>\n",
       "    </tr>\n",
       "    <tr>\n",
       "      <th>2637</th>\n",
       "      <td>12714</td>\n",
       "      <td>2020-01</td>\n",
       "      <td>2020-04-26</td>\n",
       "      <td>78.763096</td>\n",
       "      <td>1500.0</td>\n",
       "      <td>5.250873</td>\n",
       "    </tr>\n",
       "    <tr>\n",
       "      <th>2638</th>\n",
       "      <td>12715</td>\n",
       "      <td>2020-01</td>\n",
       "      <td>2020-10-16</td>\n",
       "      <td>0.000000</td>\n",
       "      <td>4000.0</td>\n",
       "      <td>0.000000</td>\n",
       "    </tr>\n",
       "    <tr>\n",
       "      <th>2639</th>\n",
       "      <td>12716</td>\n",
       "      <td>2020-01</td>\n",
       "      <td>2020-05-06</td>\n",
       "      <td>2260.735690</td>\n",
       "      <td>9000.0</td>\n",
       "      <td>25.119285</td>\n",
       "    </tr>\n",
       "    <tr>\n",
       "      <th>2640</th>\n",
       "      <td>12717</td>\n",
       "      <td>2020-01</td>\n",
       "      <td>2020-08-13</td>\n",
       "      <td>611.974158</td>\n",
       "      <td>3500.0</td>\n",
       "      <td>17.484976</td>\n",
       "    </tr>\n",
       "    <tr>\n",
       "      <th>2641</th>\n",
       "      <td>12718</td>\n",
       "      <td>2020-01</td>\n",
       "      <td>2020-08-28</td>\n",
       "      <td>0.000000</td>\n",
       "      <td>9000.0</td>\n",
       "      <td>0.000000</td>\n",
       "    </tr>\n",
       "    <tr>\n",
       "      <th>2642</th>\n",
       "      <td>12719</td>\n",
       "      <td>2020-01</td>\n",
       "      <td>2020-07-15</td>\n",
       "      <td>4200.991254</td>\n",
       "      <td>9000.0</td>\n",
       "      <td>46.677681</td>\n",
       "    </tr>\n",
       "    <tr>\n",
       "      <th>2643</th>\n",
       "      <td>12720</td>\n",
       "      <td>2020-01</td>\n",
       "      <td>2020-05-06</td>\n",
       "      <td>2144.180453</td>\n",
       "      <td>7500.0</td>\n",
       "      <td>28.589073</td>\n",
       "    </tr>\n",
       "    <tr>\n",
       "      <th>2644</th>\n",
       "      <td>12721</td>\n",
       "      <td>2020-01</td>\n",
       "      <td>2020-08-27</td>\n",
       "      <td>0.000000</td>\n",
       "      <td>1500.0</td>\n",
       "      <td>0.000000</td>\n",
       "    </tr>\n",
       "  </tbody>\n",
       "</table>\n",
       "</div>"
      ],
      "text/plain": [
       "     cust_id activated_date last_payment_date  cash_advance  credit_limit  \\\n",
       "2633   12709        2020-01        2020-05-08   2431.292076        8000.0   \n",
       "2634   12710        2020-01        2020-05-26      0.000000        2000.0   \n",
       "2635   12712        2020-01        2020-10-20      0.000000        3000.0   \n",
       "2636   12713        2020-01        2020-08-22      0.000000        9000.0   \n",
       "2637   12714        2020-01        2020-04-26     78.763096        1500.0   \n",
       "2638   12715        2020-01        2020-10-16      0.000000        4000.0   \n",
       "2639   12716        2020-01        2020-05-06   2260.735690        9000.0   \n",
       "2640   12717        2020-01        2020-08-13    611.974158        3500.0   \n",
       "2641   12718        2020-01        2020-08-28      0.000000        9000.0   \n",
       "2642   12719        2020-01        2020-07-15   4200.991254        9000.0   \n",
       "2643   12720        2020-01        2020-05-06   2144.180453        7500.0   \n",
       "2644   12721        2020-01        2020-08-27      0.000000        1500.0   \n",
       "\n",
       "      percentage  \n",
       "2633   30.391151  \n",
       "2634    0.000000  \n",
       "2635    0.000000  \n",
       "2636    0.000000  \n",
       "2637    5.250873  \n",
       "2638    0.000000  \n",
       "2639   25.119285  \n",
       "2640   17.484976  \n",
       "2641    0.000000  \n",
       "2642   46.677681  \n",
       "2643   28.589073  \n",
       "2644    0.000000  "
      ]
     },
     "execution_count": 5,
     "metadata": {},
     "output_type": "execute_result"
    }
   ],
   "source": [
    "act_last_2020_df = credit_df.loc[(credit_df['activated_date'] > '2019-12-31') & (credit_df['last_payment_date'] >= '2019-12-31')]\n",
    "act_last_2020_df = act_last_2020_df.copy()\n",
    "act_last_2020_df['cust_id'] = act_last_2020_df['cust_id'].str.strip('C')\n",
    "act_last_2020_df['activated_date'] = act_last_2020_df['activated_date'].dt.strftime('%Y-%m')\n",
    "act_last_2020_df['last_payment_date'] = pd.to_datetime(act_last_2020_df['last_payment_date'], format = '%Y-%m-%d')\n",
    "act_last_2020_df = act_last_2020_df.drop(columns = ['balance', 'balance_frequency', 'purchases', 'oneoff_purchases', \n",
    "                                                    'installments_purchases', 'purchases_frequency', 'oneoff_purchases_frequency' , \n",
    "                                                    'purchases_installments_frequency', 'cash_advance_frequency', 'cash_advance_trx', \n",
    "                                                    'purchases_trx', 'payments', 'minimum_payments', 'prc_full_payment', 'tenure', 'fraud'])\n",
    "act_last_2020_df = act_last_2020_df.drop(\"Unnamed: 0\",axis=1)\n",
    "act_last_2020_df['percentage'] = (act_last_2020_df['cash_advance'] * 100 ) /act_last_2020_df['credit_limit']\n",
    "act_last_2020_df.head(12)"
   ]
  },
  {
   "cell_type": "markdown",
   "id": "e89cca77",
   "metadata": {},
   "source": [
    "As the dataset contains many rows, only the first 12 elements are showed in the table above.\n",
    "\n",
    "***\n",
    "## Question 3\n",
    "\n",
    "The hypothesis to find a patron of behavior is that <strong>The accounts that were part of a fraud have the tendency of have an amount of <em>balance</em> low (BALANCE : Balance amount left in their account to make purchases) and high <em>purchases_trx</em> (PURCHASESTRX : Number of purchase transactions made)</strong>\n",
    "\n",
    "In order to investigate the mentioned points the method to be performed is:\n",
    "\n",
    "- Find the mean of the <em>Balance</em> and the mean of <em>Purchases_trx</em> for accounts that suffered fraud (Fraud = 1)\n",
    "- Find the mean of the <em>Balance</em> and the mean of <em>Purchases_trx</em> for accounts that did not suffer fraud (Fraud = 0)\n",
    "- Made histograms for accounts with fraud and with not fraud.\n",
    "- Compare both results versus the hypothesis.\n",
    "\n",
    "### Getting mean of <em>Balance</em> and <em> Purchases_trx</em>\n",
    "\n",
    "The original DataFrame is splited in two Dataframes based in the <em>Fraud</em> value. After that both mean can be gotten.\n",
    "\n"
   ]
  },
  {
   "cell_type": "code",
   "execution_count": 6,
   "id": "610ff157",
   "metadata": {},
   "outputs": [
    {
     "name": "stdout",
     "output_type": "stream",
     "text": [
      "The means for accounts that suffered fraud are:\n",
      "\tBalance: 6329.680703214286\n",
      "\tPurchase transactions: 101.61428571428571\n",
      "The means for accounts that did not suffer fraud are:\n",
      "\tBalance: 1527.0418695830142\n",
      "\tPurchase transactions: 14.024774774774775\n"
     ]
    }
   ],
   "source": [
    "credit_df_fraud_1 = credit_df.loc[(credit_df['fraud'] == 1)]\n",
    "credit_df_fraud_0 = credit_df.loc[(credit_df['fraud'] == 0)]\n",
    "mean_balance_fraud = credit_df_fraud_1['balance'].mean()\n",
    "mean_purchase_trx_fraud = credit_df_fraud_1['purchases_trx'].mean()\n",
    "mean_balance_not_fraud = credit_df_fraud_0['balance'].mean()\n",
    "mean_purchase_trx_not_fraud = credit_df_fraud_0['purchases_trx'].mean()\n",
    "print('The means for accounts that suffered fraud are:\\n\\tBalance: {balance}\\n\\tPurchase transactions: {purchase}'.format(balance =mean_balance_fraud, purchase = mean_purchase_trx_fraud))\n",
    "print('The means for accounts that did not suffer fraud are:\\n\\tBalance: {balance}\\n\\tPurchase transactions: {purchase}'.format(balance =mean_balance_not_fraud, purchase = mean_purchase_trx_not_fraud))\n"
   ]
  },
  {
   "cell_type": "markdown",
   "id": "b1138d85",
   "metadata": {},
   "source": [
    "### Ploting Histrograms\n",
    "\n",
    "The following lines plot histograms that show which values of Purchases transaction repeat more on each pair of DataFrames, \"Fraud\" in red and \"not Fraud\" in aqua blue.\n",
    "\n",
    " "
   ]
  },
  {
   "cell_type": "code",
   "execution_count": 7,
   "id": "d18cdf07",
   "metadata": {},
   "outputs": [
    {
     "data": {
      "text/plain": [
       "array([[<AxesSubplot:title={'center':'purchases_trx'}>]], dtype=object)"
      ]
     },
     "execution_count": 7,
     "metadata": {},
     "output_type": "execute_result"
    },
    {
     "data": {
      "image/png": "[encoded data removed]",
      "text/plain": [
       "<Figure size 1080x576 with 1 Axes>"
      ]
     },
     "metadata": {
      "needs_background": "light"
     },
     "output_type": "display_data"
    },
    {
     "data": {
      "image/png": "[encoded data removed]",
      "text/plain": [
       "<Figure size 1080x576 with 1 Axes>"
      ]
     },
     "metadata": {
      "needs_background": "light"
     },
     "output_type": "display_data"
    }
   ],
   "source": [
    "credit_df_fraud_1.hist(column ='purchases_trx', bins = 300 , grid = False, color = '#FE0101', legend = True, orientation = 'horizontal', figsize=(15, 8))\n",
    "credit_df_fraud_0.hist(column ='purchases_trx', bins = 300 , grid = False, color = '#01FEFA', legend = True, orientation = 'horizontal', figsize=(15, 8))\n"
   ]
  },
  {
   "cell_type": "markdown",
   "id": "c9d10087",
   "metadata": {},
   "source": [
    "### Conclusion\n",
    "\n",
    "According with the results obtained in the code above, the conclusions are:\n",
    " * It could be said, the balance is not an indicator of fraud because it does not decrease significantly  with the presence of Fraud\n",
    " * According with the prom in the quantity of purchases, it could be concluded that the Purchases transaction increase significantly with the presence of fraud.\n",
    " * Finally, the \"Purchases transaction\" is an indicator for fraud, so when an account increases the quantity of \"Purchases transaction\" rapidly is time to take action in order to avoid more damage to that particular account.\n",
    " ***\n",
    " Thank you for your time and the opportunity.\n",
    " Author: Eduardo Reyes Galván\n",
    " e-mail: eduardoreyesgalvan@gmail.com"
   ]
  }
 ],
 "metadata": {
  "kernelspec": {
   "display_name": "Python 3",
   "language": "python",
   "name": "python3"
  },
  "language_info": {
   "codemirror_mode": {
    "name": "ipython",
    "version": 3
   },
   "file_extension": ".py",
   "mimetype": "text/x-python",
   "name": "python",
   "nbconvert_exporter": "python",
   "pygments_lexer": "ipython3",
   "version": "3.8.5"
  }
 },
 "nbformat": 4,
 "nbformat_minor": 5
}
